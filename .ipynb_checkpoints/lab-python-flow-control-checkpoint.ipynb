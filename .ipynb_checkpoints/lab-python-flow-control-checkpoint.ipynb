{
 "cells": [
  {
   "cell_type": "markdown",
   "id": "d3bfc191-8885-42ee-b0a0-bbab867c6f9f",
   "metadata": {
    "tags": []
   },
   "source": [
    "# Lab | Flow Control"
   ]
  },
  {
   "cell_type": "markdown",
   "id": "3851fcd1-cf98-4653-9c89-e003b7ec9400",
   "metadata": {},
   "source": [
    "## Exercise: Managing Customer Orders Optimized\n",
    "\n",
    "In the last lab, you were starting an online store that sells various products. To ensure smooth operations, you developed a program that manages customer orders and inventory.\n",
    "\n",
    "You did so without using flow control. Let's go a step further and improve this code.\n",
    "\n",
    "Follow the steps below to complete the exercise:\n",
    "\n",
    "1. Look at your code from the lab data structures, and improve repeated code with loops.\n",
    "\n",
    "2. Instead of asking the user to input the name of three products that a customer wants to order, do the following:\n",
    "    \n",
    "    a. Prompt the user to enter the name of a product that a customer wants to order.\n",
    "    \n",
    "    b. Add the product name to the \"customer_orders\" set.\n",
    "    \n",
    "    c. Ask the user if they want to add another product (yes/no).\n",
    "    \n",
    "    d. Continue the loop until the user does not want to add another product.\n",
    "\n",
    "3. Instead of updating the inventory by subtracting 1 from the quantity of each product, only do it for  the products that were ordered (those in \"customer_orders\")."
   ]
  },
  {
   "cell_type": "code",
   "execution_count": 1,
   "id": "6e045c31",
   "metadata": {},
   "outputs": [
    {
     "name": "stdout",
     "output_type": "stream",
     "text": [
      "Can you enter the quantity of t-shirt (integer please)?10\n",
      "Can you enter the quantity of mug (integer please)?10\n",
      "Can you enter the quantity of hat (integer please)?10\n",
      "Can you enter the quantity of book (integer please)?10\n",
      "Can you enter the quantity of keychain (integer please)?10\n"
     ]
    },
    {
     "data": {
      "text/plain": [
       "{'t-shirt': 10, 'mug': 10, 'hat': 10, 'book': 10, 'keychain': 10}"
      ]
     },
     "execution_count": 1,
     "metadata": {},
     "output_type": "execute_result"
    }
   ],
   "source": [
    "#Previous work\n",
    "\n",
    "products = [\"t-shirt\", \"mug\", \"hat\", \"book\", \"keychain\"]\n",
    "inventory = {}\n",
    "\n",
    "for product in products:\n",
    "    value = int(input(f'Can you enter the quantity of {product} (integer please)?'))\n",
    "    inventory[product]= value\n",
    "\n",
    "inventory\n"
   ]
  },
  {
   "cell_type": "code",
   "execution_count": 4,
   "id": "5ec99102",
   "metadata": {},
   "outputs": [
    {
     "name": "stdout",
     "output_type": "stream",
     "text": [
      "You can order any of the following products: ['t-shirt', 'mug', 'hat', 'book', 'keychain']\n",
      "Please type in the product you want to add mug\n",
      "do you want to add another product (yes/no)yes\n",
      "Please type in the product you want to add hat\n",
      "do you want to add another product (yes/no)yes\n",
      "Please type in the product you want to add book\n",
      "do you want to add another product (yes/no)no\n"
     ]
    },
    {
     "data": {
      "text/plain": [
       "{'book', 'hat', 'mug'}"
      ]
     },
     "execution_count": 4,
     "metadata": {},
     "output_type": "execute_result"
    }
   ],
   "source": [
    "# 2. Instead of asking the user to input the name of three products that a customer wants to order, do the following:\n",
    "# a. Prompt the user to enter the name of a product that a customer wants to order.\n",
    "\n",
    "customer_orders = []\n",
    "\n",
    "print(f\"You can order any of the following products: {products}\")\n",
    "indicator = 'yes'\n",
    "\n",
    "while indicator == 'yes':\n",
    "    temp = input('Please type in the product you want to add ').lower().strip()\n",
    "    if temp not in products:\n",
    "        print(f'Wrong spelling, try again: ')\n",
    "    else:\n",
    "        customer_orders.append(temp)\n",
    "        indicator = input('do you want to add another product (yes/no)').lower().strip()\n",
    "          \n",
    "customer_orders=set(customer_orders)\n",
    "customer_orders"
   ]
  },
  {
   "cell_type": "code",
   "execution_count": 5,
   "id": "f5d57e92",
   "metadata": {},
   "outputs": [
    {
     "data": {
      "text/plain": [
       "(3, 6.0)"
      ]
     },
     "execution_count": 5,
     "metadata": {},
     "output_type": "execute_result"
    }
   ],
   "source": [
    "#7/ Calculate the following order statistics:\n",
    "    # Total Products Ordered: The total number of products in the customer_orders set.\n",
    "    #Percentage of Products Ordered: The percentage of products ordered compared to the total available products.\n",
    "#Store these statistics in a tuple called order_status.\n",
    "\n",
    "total_product_ordered = len(customer_orders)\n",
    "available_products = sum(inventory.values())\n",
    "\n",
    "order_status = (total_product_ordered, 100*total_product_ordered/available_products)\n",
    "order_status"
   ]
  },
  {
   "cell_type": "code",
   "execution_count": 6,
   "id": "32cc89ec",
   "metadata": {},
   "outputs": [
    {
     "name": "stdout",
     "output_type": "stream",
     "text": [
      "Order Statistics:\n",
      "Total Products Ordered: 3\n",
      "Percentage of Products Ordered: 6.0% \n"
     ]
    }
   ],
   "source": [
    "#8/ Print the order statistics using the following format:\n",
    "    # Order Statistics:\n",
    "    # Total Products Ordered: <total_products_ordered>\n",
    "    # Percentage of Products Ordered: <percentage_ordered>% \n",
    "\n",
    "print(f\"Order Statistics:\\nTotal Products Ordered: {order_status[0]}\\nPercentage of Products Ordered: {order_status[1]}% \")"
   ]
  },
  {
   "cell_type": "code",
   "execution_count": null,
   "id": "34bf9af8",
   "metadata": {},
   "outputs": [],
   "source": []
  }
 ],
 "metadata": {
  "kernelspec": {
   "display_name": "Python 3 (ipykernel)",
   "language": "python",
   "name": "python3"
  },
  "language_info": {
   "codemirror_mode": {
    "name": "ipython",
    "version": 3
   },
   "file_extension": ".py",
   "mimetype": "text/x-python",
   "name": "python",
   "nbconvert_exporter": "python",
   "pygments_lexer": "ipython3",
   "version": "3.11.5"
  }
 },
 "nbformat": 4,
 "nbformat_minor": 5
}
